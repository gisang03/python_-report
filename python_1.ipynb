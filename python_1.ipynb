{
  "nbformat": 4,
  "nbformat_minor": 0,
  "metadata": {
    "colab": {
      "name": "python_1.ipynb",
      "provenance": [],
      "authorship_tag": "ABX9TyOyn2XuoQZv2QUShWSpKXsX",
      "include_colab_link": true
    },
    "kernelspec": {
      "name": "python3",
      "display_name": "Python 3"
    },
    "language_info": {
      "name": "python"
    }
  },
  "cells": [
    {
      "cell_type": "markdown",
      "metadata": {
        "id": "view-in-github",
        "colab_type": "text"
      },
      "source": [
        "<a href=\"https://colab.research.google.com/github/gisang03/python_-report/blob/main/python_1.ipynb\" target=\"_parent\"><img src=\"https://colab.research.google.com/assets/colab-badge.svg\" alt=\"Open In Colab\"/></a>"
      ]
    },
    {
      "cell_type": "code",
      "execution_count": 1,
      "metadata": {
        "colab": {
          "base_uri": "https://localhost:8080/"
        },
        "id": "sRUcxH-HAupB",
        "outputId": "7ac12912-d23d-4259-99ce-71d151146b1a"
      },
      "outputs": [
        {
          "output_type": "stream",
          "name": "stdout",
          "text": [
            "hello world\n"
          ]
        }
      ],
      "source": [
        "print(\"Hello world\")"
      ]
    },
    {
      "cell_type": "code",
      "source": [
        "print('Hello world')"
      ],
      "metadata": {
        "colab": {
          "base_uri": "https://localhost:8080/"
        },
        "id": "WmUxtz8KA7LP",
        "outputId": "3e32eae5-9127-440c-b2cd-b85fb9c16b99"
      },
      "execution_count": 2,
      "outputs": [
        {
          "output_type": "stream",
          "name": "stdout",
          "text": [
            "Hello world\n"
          ]
        }
      ]
    },
    {
      "cell_type": "code",
      "source": [
        "print(1+2)"
      ],
      "metadata": {
        "colab": {
          "base_uri": "https://localhost:8080/"
        },
        "id": "dRgK6_6uA7YO",
        "outputId": "d01bac15-977f-4e4b-df26-67a970f8d548"
      },
      "execution_count": 3,
      "outputs": [
        {
          "output_type": "stream",
          "name": "stdout",
          "text": [
            "3\n"
          ]
        }
      ]
    },
    {
      "cell_type": "code",
      "source": [
        "print(2*3)"
      ],
      "metadata": {
        "colab": {
          "base_uri": "https://localhost:8080/"
        },
        "id": "pkUjZBHjBQH2",
        "outputId": "31a1e81e-746b-41bc-d4a7-dc0f8fbfa823"
      },
      "execution_count": 4,
      "outputs": [
        {
          "output_type": "stream",
          "name": "stdout",
          "text": [
            "6\n"
          ]
        }
      ]
    },
    {
      "cell_type": "code",
      "source": [
        "print(True)"
      ],
      "metadata": {
        "colab": {
          "base_uri": "https://localhost:8080/"
        },
        "id": "YE8PCUcaBQSq",
        "outputId": "b7da2653-72ef-4d6c-effb-438ce9f1dd6f"
      },
      "execution_count": 5,
      "outputs": [
        {
          "output_type": "stream",
          "name": "stdout",
          "text": [
            "True\n"
          ]
        }
      ]
    },
    {
      "cell_type": "code",
      "source": [
        "print(False)"
      ],
      "metadata": {
        "colab": {
          "base_uri": "https://localhost:8080/"
        },
        "id": "rclOwugKBqB3",
        "outputId": "8d83e783-07ec-4c4a-8fae-c12e595e3e7f"
      },
      "execution_count": 6,
      "outputs": [
        {
          "output_type": "stream",
          "name": "stdout",
          "text": [
            "False\n"
          ]
        }
      ]
    },
    {
      "cell_type": "code",
      "source": [
        "a= 3 ; b= 4 ; c= a + b; print(c); print(a); print(b)"
      ],
      "metadata": {
        "colab": {
          "base_uri": "https://localhost:8080/"
        },
        "id": "VVOy4v2xBsnt",
        "outputId": "40a0428e-a1d3-43c5-a5b9-646ba7e83cc1"
      },
      "execution_count": 10,
      "outputs": [
        {
          "output_type": "stream",
          "name": "stdout",
          "text": [
            "7\n",
            "3\n",
            "4\n"
          ]
        }
      ]
    },
    {
      "cell_type": "code",
      "source": [
        "a = \"안녕하세요.\";\n",
        "b = \"반갑습니다.\";\n",
        "c = a + b;\n",
        "print(c)"
      ],
      "metadata": {
        "colab": {
          "base_uri": "https://localhost:8080/"
        },
        "id": "8dp0yPDlCFfA",
        "outputId": "82d12f02-c6f4-4394-9d1a-311d40e4b26b"
      },
      "execution_count": 12,
      "outputs": [
        {
          "output_type": "stream",
          "name": "stdout",
          "text": [
            "안녕하세요.반갑습니다.\n"
          ]
        }
      ]
    },
    {
      "cell_type": "code",
      "source": [
        "a = \"안녕하세요.\";\n",
        "b = a * 10;\n",
        "print(b)"
      ],
      "metadata": {
        "colab": {
          "base_uri": "https://localhost:8080/"
        },
        "id": "5XVQ2pTjCFot",
        "outputId": "927cc1e6-00be-4bc0-db07-e5f154d5a87c"
      },
      "execution_count": 14,
      "outputs": [
        {
          "output_type": "stream",
          "name": "stdout",
          "text": [
            "안녕하세요.안녕하세요.안녕하세요.안녕하세요.안녕하세요.안녕하세요.안녕하세요.안녕하세요.안녕하세요.안녕하세요.\n"
          ]
        }
      ]
    },
    {
      "cell_type": "code",
      "source": [
        "print(\"###############\")\n",
        "print(\"#\" * 15)"
      ],
      "metadata": {
        "colab": {
          "base_uri": "https://localhost:8080/"
        },
        "id": "I8v-V9wTBsqW",
        "outputId": "96475b72-851c-446b-a0df-30aabd8ac509"
      },
      "execution_count": 16,
      "outputs": [
        {
          "output_type": "stream",
          "name": "stdout",
          "text": [
            "###############\n",
            "###############\n"
          ]
        }
      ]
    },
    {
      "cell_type": "code",
      "source": [
        "_Father =\"100,000\"\n",
        "_Mother =\"150,000\"\n",
        "_Uncle = \"감사합니다\"\n",
        "Thanks = _Father, _Mother, _Uncle\n",
        "print(Thanks)"
      ],
      "metadata": {
        "colab": {
          "base_uri": "https://localhost:8080/"
        },
        "id": "QumCaGsSDyq2",
        "outputId": "a321d844-a087-46e9-ec66-855a8b8276a2"
      },
      "execution_count": 17,
      "outputs": [
        {
          "output_type": "stream",
          "name": "stdout",
          "text": [
            "('100,000', '150,000', '감사합니다')\n"
          ]
        }
      ]
    },
    {
      "cell_type": "code",
      "source": [
        "_Father =\"100,000\"\n",
        "_Mother =\"150,000\"\n",
        "_Uncle = \"감사합니다\"\n",
        "Thanks = _Father, _Mother, _Uncle\n",
        "print(\"아버지=\", _Father,\"원\")\n",
        "print(\"어머니=\", _Mother,\"원\")\n",
        "print(\"삼촌=\", _Uncle,\"원\")"
      ],
      "metadata": {
        "colab": {
          "base_uri": "https://localhost:8080/"
        },
        "id": "R0u88ud_EWro",
        "outputId": "87959aa2-2d84-4d9d-923f-59b6e0bb77d4"
      },
      "execution_count": 18,
      "outputs": [
        {
          "output_type": "stream",
          "name": "stdout",
          "text": [
            "아버지= 100,000 원\n",
            "어머니= 150,000 원\n",
            "삼촌= 감사합니다 원\n"
          ]
        }
      ]
    },
    {
      "cell_type": "markdown",
      "source": [
        "아버지와 어머니 그리고 삼촌에게 감사한마음을 전하고 싶습니다.\n",
        "아버지에게는 10만원, 어머니에게는 15만원, 삼촌에게는 \"감사합니다\"\n",
        "변수 : _Father, _Mother _Uncle"
      ],
      "metadata": {
        "id": "X1bzOVEPDSVL"
      }
    },
    {
      "cell_type": "markdown",
      "source": [
        "변수의 규칙 : 문자 또는 _로 시작(Father, father, _father), 문자, 숫자, _구성\n",
        "(Father69, father55, father_56), 공백 절대안된다. 안쓰는 것이 좋다. 특수문자 절대 안된다"
      ],
      "metadata": {
        "id": "B21t1y9jE-of"
      }
    },
    {
      "cell_type": "markdown",
      "source": [
        "FATHER, father, MOTHER, mother, _Father, _father, Keyword( True, False, for, while, if, continue, break, class....)"
      ],
      "metadata": {
        "id": "rRiCH0SBFf25"
      }
    },
    {
      "cell_type": "markdown",
      "source": [
        "숫자자료형 = 숫자,문자자료형= 모든 문자들.."
      ],
      "metadata": {
        "id": "vi04mq92F7BL"
      }
    },
    {
      "cell_type": "code",
      "source": [
        "a=2\n",
        "b= \"2\"\n",
        "c= a + int(b)\n",
        "print(c)"
      ],
      "metadata": {
        "colab": {
          "base_uri": "https://localhost:8080/"
        },
        "id": "izYLOAJjGEMC",
        "outputId": "d6e6f797-7461-43e2-c279-1722e56cf79f"
      },
      "execution_count": 19,
      "outputs": [
        {
          "output_type": "stream",
          "name": "stdout",
          "text": [
            "4\n"
          ]
        }
      ]
    },
    {
      "cell_type": "markdown",
      "source": [
        "형변환: 정수형을 변환할때 int(), 실수형을 변환하고자 할때float(), \n",
        "문자자료형으로 변환하고자할떄 str(), int(float(\"2.5\"))"
      ],
      "metadata": {
        "id": "N1ff1aUvGSh5"
      }
    },
    {
      "cell_type": "markdown",
      "source": [
        "산출연산자 : +더하기(prtint(4+3), -뺴기(print(2-1), *곱하기(print(5*4), / \n",
        "나누기(print(4/2)), % 나머지 print(5 % 2), // 몫 print(6 // 2), ** 거듭제곱\n",
        "print(4**2)"
      ],
      "metadata": {
        "id": "5NjmKXIwGrh7"
      }
    }
  ]
}